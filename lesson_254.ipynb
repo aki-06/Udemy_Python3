{
 "cells": [
  {
   "cell_type": "code",
   "execution_count": 1,
   "metadata": {
    "collapsed": true
   },
   "outputs": [],
   "source": [
    "import numpy as np\n",
    "import pandas as pd"
   ]
  },
  {
   "cell_type": "code",
   "execution_count": 2,
   "metadata": {
    "collapsed": true
   },
   "outputs": [],
   "source": [
    "# Series\n",
    "s = pd.Series([1, 2, np.nan])"
   ]
  },
  {
   "cell_type": "code",
   "execution_count": 3,
   "metadata": {},
   "outputs": [
    {
     "data": {
      "text/plain": [
       "0    1.0\n",
       "1    2.0\n",
       "2    NaN\n",
       "dtype: float64"
      ]
     },
     "execution_count": 3,
     "metadata": {},
     "output_type": "execute_result"
    }
   ],
   "source": [
    "s"
   ]
  },
  {
   "cell_type": "code",
   "execution_count": 4,
   "metadata": {},
   "outputs": [
    {
     "data": {
      "text/plain": [
       "1.0"
      ]
     },
     "execution_count": 4,
     "metadata": {},
     "output_type": "execute_result"
    }
   ],
   "source": [
    "# インデックスで中身を確認\n",
    "s[0]"
   ]
  },
  {
   "cell_type": "code",
   "execution_count": 5,
   "metadata": {},
   "outputs": [
    {
     "data": {
      "text/plain": [
       "3.0"
      ]
     },
     "execution_count": 5,
     "metadata": {},
     "output_type": "execute_result"
    }
   ],
   "source": [
    "# 合計\n",
    "s.sum()"
   ]
  },
  {
   "cell_type": "code",
   "execution_count": 6,
   "metadata": {},
   "outputs": [
    {
     "data": {
      "text/plain": [
       "2.0"
      ]
     },
     "execution_count": 6,
     "metadata": {},
     "output_type": "execute_result"
    }
   ],
   "source": [
    "s.max()"
   ]
  },
  {
   "cell_type": "code",
   "execution_count": 7,
   "metadata": {},
   "outputs": [
    {
     "data": {
      "text/plain": [
       "1.0"
      ]
     },
     "execution_count": 7,
     "metadata": {},
     "output_type": "execute_result"
    }
   ],
   "source": [
    "s.min()"
   ]
  },
  {
   "cell_type": "code",
   "execution_count": 8,
   "metadata": {},
   "outputs": [
    {
     "data": {
      "text/html": [
       "<div>\n",
       "<style>\n",
       "    .dataframe thead tr:only-child th {\n",
       "        text-align: right;\n",
       "    }\n",
       "\n",
       "    .dataframe thead th {\n",
       "        text-align: left;\n",
       "    }\n",
       "\n",
       "    .dataframe tbody tr th {\n",
       "        vertical-align: top;\n",
       "    }\n",
       "</style>\n",
       "<table border=\"1\" class=\"dataframe\">\n",
       "  <thead>\n",
       "    <tr style=\"text-align: right;\">\n",
       "      <th></th>\n",
       "      <th>A</th>\n",
       "      <th>B</th>\n",
       "    </tr>\n",
       "  </thead>\n",
       "  <tbody>\n",
       "    <tr>\n",
       "      <th>0</th>\n",
       "      <td>1</td>\n",
       "      <td>3</td>\n",
       "    </tr>\n",
       "    <tr>\n",
       "      <th>1</th>\n",
       "      <td>2</td>\n",
       "      <td>4</td>\n",
       "    </tr>\n",
       "  </tbody>\n",
       "</table>\n",
       "</div>"
      ],
      "text/plain": [
       "   A  B\n",
       "0  1  3\n",
       "1  2  4"
      ]
     },
     "execution_count": 8,
     "metadata": {},
     "output_type": "execute_result"
    }
   ],
   "source": [
    "# DataFrame\n",
    "df = pd.DataFrame({\"A\": [1, 2], \"B\": [3, 4]})\n",
    "df"
   ]
  },
  {
   "cell_type": "code",
   "execution_count": 11,
   "metadata": {},
   "outputs": [
    {
     "data": {
      "text/plain": [
       "A    int64\n",
       "B    int64\n",
       "dtype: object"
      ]
     },
     "execution_count": 11,
     "metadata": {},
     "output_type": "execute_result"
    }
   ],
   "source": [
    "# 型の確認\n",
    "df.dtypes"
   ]
  },
  {
   "cell_type": "code",
   "execution_count": 13,
   "metadata": {},
   "outputs": [
    {
     "data": {
      "text/html": [
       "<div>\n",
       "<style>\n",
       "    .dataframe thead tr:only-child th {\n",
       "        text-align: right;\n",
       "    }\n",
       "\n",
       "    .dataframe thead th {\n",
       "        text-align: left;\n",
       "    }\n",
       "\n",
       "    .dataframe tbody tr th {\n",
       "        vertical-align: top;\n",
       "    }\n",
       "</style>\n",
       "<table border=\"1\" class=\"dataframe\">\n",
       "  <thead>\n",
       "    <tr style=\"text-align: right;\">\n",
       "      <th></th>\n",
       "      <th>0</th>\n",
       "      <th>1</th>\n",
       "      <th>2</th>\n",
       "      <th>3</th>\n",
       "    </tr>\n",
       "  </thead>\n",
       "  <tbody>\n",
       "    <tr>\n",
       "      <th>0</th>\n",
       "      <td>-0.855948</td>\n",
       "      <td>-0.328586</td>\n",
       "      <td>-0.393940</td>\n",
       "      <td>-0.241277</td>\n",
       "    </tr>\n",
       "    <tr>\n",
       "      <th>1</th>\n",
       "      <td>1.254112</td>\n",
       "      <td>-0.810096</td>\n",
       "      <td>-1.116956</td>\n",
       "      <td>-0.928566</td>\n",
       "    </tr>\n",
       "    <tr>\n",
       "      <th>2</th>\n",
       "      <td>-0.309915</td>\n",
       "      <td>-0.169020</td>\n",
       "      <td>-0.002206</td>\n",
       "      <td>0.233271</td>\n",
       "    </tr>\n",
       "    <tr>\n",
       "      <th>3</th>\n",
       "      <td>-0.694134</td>\n",
       "      <td>-0.445039</td>\n",
       "      <td>-1.438148</td>\n",
       "      <td>-1.432451</td>\n",
       "    </tr>\n",
       "    <tr>\n",
       "      <th>4</th>\n",
       "      <td>0.201931</td>\n",
       "      <td>-1.138103</td>\n",
       "      <td>0.009724</td>\n",
       "      <td>0.197287</td>\n",
       "    </tr>\n",
       "    <tr>\n",
       "      <th>5</th>\n",
       "      <td>0.094642</td>\n",
       "      <td>0.103783</td>\n",
       "      <td>-0.639418</td>\n",
       "      <td>-1.237098</td>\n",
       "    </tr>\n",
       "  </tbody>\n",
       "</table>\n",
       "</div>"
      ],
      "text/plain": [
       "          0         1         2         3\n",
       "0 -0.855948 -0.328586 -0.393940 -0.241277\n",
       "1  1.254112 -0.810096 -1.116956 -0.928566\n",
       "2 -0.309915 -0.169020 -0.002206  0.233271\n",
       "3 -0.694134 -0.445039 -1.438148 -1.432451\n",
       "4  0.201931 -1.138103  0.009724  0.197287\n",
       "5  0.094642  0.103783 -0.639418 -1.237098"
      ]
     },
     "execution_count": 13,
     "metadata": {},
     "output_type": "execute_result"
    }
   ],
   "source": [
    "df = pd.DataFrame(np.random.randn(6, 4))\n",
    "df"
   ]
  },
  {
   "cell_type": "code",
   "execution_count": 15,
   "metadata": {},
   "outputs": [
    {
     "data": {
      "text/html": [
       "<div>\n",
       "<style>\n",
       "    .dataframe thead tr:only-child th {\n",
       "        text-align: right;\n",
       "    }\n",
       "\n",
       "    .dataframe thead th {\n",
       "        text-align: left;\n",
       "    }\n",
       "\n",
       "    .dataframe tbody tr th {\n",
       "        vertical-align: top;\n",
       "    }\n",
       "</style>\n",
       "<table border=\"1\" class=\"dataframe\">\n",
       "  <thead>\n",
       "    <tr style=\"text-align: right;\">\n",
       "      <th></th>\n",
       "      <th>0</th>\n",
       "      <th>1</th>\n",
       "      <th>2</th>\n",
       "      <th>3</th>\n",
       "    </tr>\n",
       "  </thead>\n",
       "  <tbody>\n",
       "    <tr>\n",
       "      <th>2018-01-01</th>\n",
       "      <td>0.549461</td>\n",
       "      <td>-0.828246</td>\n",
       "      <td>-2.655959</td>\n",
       "      <td>0.353077</td>\n",
       "    </tr>\n",
       "    <tr>\n",
       "      <th>2018-01-02</th>\n",
       "      <td>1.564023</td>\n",
       "      <td>0.555411</td>\n",
       "      <td>0.333703</td>\n",
       "      <td>-0.212719</td>\n",
       "    </tr>\n",
       "    <tr>\n",
       "      <th>2018-01-03</th>\n",
       "      <td>-0.255737</td>\n",
       "      <td>0.777503</td>\n",
       "      <td>-0.671694</td>\n",
       "      <td>-1.092559</td>\n",
       "    </tr>\n",
       "    <tr>\n",
       "      <th>2018-01-04</th>\n",
       "      <td>1.028667</td>\n",
       "      <td>-2.140137</td>\n",
       "      <td>-1.912363</td>\n",
       "      <td>-0.800116</td>\n",
       "    </tr>\n",
       "    <tr>\n",
       "      <th>2018-01-05</th>\n",
       "      <td>-0.237410</td>\n",
       "      <td>2.165552</td>\n",
       "      <td>-0.132443</td>\n",
       "      <td>0.373534</td>\n",
       "    </tr>\n",
       "    <tr>\n",
       "      <th>2018-01-06</th>\n",
       "      <td>-1.782205</td>\n",
       "      <td>0.111849</td>\n",
       "      <td>0.472001</td>\n",
       "      <td>-0.383796</td>\n",
       "    </tr>\n",
       "  </tbody>\n",
       "</table>\n",
       "</div>"
      ],
      "text/plain": [
       "                   0         1         2         3\n",
       "2018-01-01  0.549461 -0.828246 -2.655959  0.353077\n",
       "2018-01-02  1.564023  0.555411  0.333703 -0.212719\n",
       "2018-01-03 -0.255737  0.777503 -0.671694 -1.092559\n",
       "2018-01-04  1.028667 -2.140137 -1.912363 -0.800116\n",
       "2018-01-05 -0.237410  2.165552 -0.132443  0.373534\n",
       "2018-01-06 -1.782205  0.111849  0.472001 -0.383796"
      ]
     },
     "execution_count": 15,
     "metadata": {},
     "output_type": "execute_result"
    }
   ],
   "source": [
    "# 20180101から連続する日付をインデックスにする\n",
    "df = pd.DataFrame(np.random.randn(6, 4), index=pd.date_range('20180101', periods=6))\n",
    "df"
   ]
  },
  {
   "cell_type": "code",
   "execution_count": 16,
   "metadata": {},
   "outputs": [
    {
     "data": {
      "text/html": [
       "<div>\n",
       "<style>\n",
       "    .dataframe thead tr:only-child th {\n",
       "        text-align: right;\n",
       "    }\n",
       "\n",
       "    .dataframe thead th {\n",
       "        text-align: left;\n",
       "    }\n",
       "\n",
       "    .dataframe tbody tr th {\n",
       "        vertical-align: top;\n",
       "    }\n",
       "</style>\n",
       "<table border=\"1\" class=\"dataframe\">\n",
       "  <thead>\n",
       "    <tr style=\"text-align: right;\">\n",
       "      <th></th>\n",
       "      <th>A</th>\n",
       "      <th>B</th>\n",
       "      <th>C</th>\n",
       "      <th>D</th>\n",
       "    </tr>\n",
       "  </thead>\n",
       "  <tbody>\n",
       "    <tr>\n",
       "      <th>2018-01-01</th>\n",
       "      <td>0.366368</td>\n",
       "      <td>1.305222</td>\n",
       "      <td>0.780265</td>\n",
       "      <td>-0.277749</td>\n",
       "    </tr>\n",
       "    <tr>\n",
       "      <th>2018-01-02</th>\n",
       "      <td>-1.059438</td>\n",
       "      <td>0.386760</td>\n",
       "      <td>-1.963926</td>\n",
       "      <td>-2.380305</td>\n",
       "    </tr>\n",
       "    <tr>\n",
       "      <th>2018-01-03</th>\n",
       "      <td>2.133200</td>\n",
       "      <td>1.420723</td>\n",
       "      <td>0.113830</td>\n",
       "      <td>-1.234945</td>\n",
       "    </tr>\n",
       "    <tr>\n",
       "      <th>2018-01-04</th>\n",
       "      <td>-1.135952</td>\n",
       "      <td>-0.231884</td>\n",
       "      <td>-0.367875</td>\n",
       "      <td>-0.308342</td>\n",
       "    </tr>\n",
       "    <tr>\n",
       "      <th>2018-01-05</th>\n",
       "      <td>-1.290442</td>\n",
       "      <td>-0.346175</td>\n",
       "      <td>-0.846198</td>\n",
       "      <td>-0.674866</td>\n",
       "    </tr>\n",
       "    <tr>\n",
       "      <th>2018-01-06</th>\n",
       "      <td>0.345688</td>\n",
       "      <td>-1.307276</td>\n",
       "      <td>1.033196</td>\n",
       "      <td>0.229869</td>\n",
       "    </tr>\n",
       "  </tbody>\n",
       "</table>\n",
       "</div>"
      ],
      "text/plain": [
       "                   A         B         C         D\n",
       "2018-01-01  0.366368  1.305222  0.780265 -0.277749\n",
       "2018-01-02 -1.059438  0.386760 -1.963926 -2.380305\n",
       "2018-01-03  2.133200  1.420723  0.113830 -1.234945\n",
       "2018-01-04 -1.135952 -0.231884 -0.367875 -0.308342\n",
       "2018-01-05 -1.290442 -0.346175 -0.846198 -0.674866\n",
       "2018-01-06  0.345688 -1.307276  1.033196  0.229869"
      ]
     },
     "execution_count": 16,
     "metadata": {},
     "output_type": "execute_result"
    }
   ],
   "source": [
    "# 上記にカラムを追加する\n",
    "df = pd.DataFrame(np.random.randn(6, 4), index=pd.date_range('20180101', periods=6), columns=['A', 'B', 'C', 'D'])\n",
    "df"
   ]
  },
  {
   "cell_type": "code",
   "execution_count": 17,
   "metadata": {},
   "outputs": [
    {
     "data": {
      "text/html": [
       "<div>\n",
       "<style>\n",
       "    .dataframe thead tr:only-child th {\n",
       "        text-align: right;\n",
       "    }\n",
       "\n",
       "    .dataframe thead th {\n",
       "        text-align: left;\n",
       "    }\n",
       "\n",
       "    .dataframe tbody tr th {\n",
       "        vertical-align: top;\n",
       "    }\n",
       "</style>\n",
       "<table border=\"1\" class=\"dataframe\">\n",
       "  <thead>\n",
       "    <tr style=\"text-align: right;\">\n",
       "      <th></th>\n",
       "      <th>A</th>\n",
       "      <th>B</th>\n",
       "      <th>C</th>\n",
       "      <th>D</th>\n",
       "    </tr>\n",
       "  </thead>\n",
       "  <tbody>\n",
       "    <tr>\n",
       "      <th>2018-01-01</th>\n",
       "      <td>0.366368</td>\n",
       "      <td>1.305222</td>\n",
       "      <td>0.780265</td>\n",
       "      <td>-0.277749</td>\n",
       "    </tr>\n",
       "  </tbody>\n",
       "</table>\n",
       "</div>"
      ],
      "text/plain": [
       "                   A         B         C         D\n",
       "2018-01-01  0.366368  1.305222  0.780265 -0.277749"
      ]
     },
     "execution_count": 17,
     "metadata": {},
     "output_type": "execute_result"
    }
   ],
   "source": [
    "# 先頭のデータを確認\n",
    "# デフォルトは5\n",
    "df.head(1)"
   ]
  },
  {
   "cell_type": "code",
   "execution_count": 18,
   "metadata": {},
   "outputs": [
    {
     "data": {
      "text/html": [
       "<div>\n",
       "<style>\n",
       "    .dataframe thead tr:only-child th {\n",
       "        text-align: right;\n",
       "    }\n",
       "\n",
       "    .dataframe thead th {\n",
       "        text-align: left;\n",
       "    }\n",
       "\n",
       "    .dataframe tbody tr th {\n",
       "        vertical-align: top;\n",
       "    }\n",
       "</style>\n",
       "<table border=\"1\" class=\"dataframe\">\n",
       "  <thead>\n",
       "    <tr style=\"text-align: right;\">\n",
       "      <th></th>\n",
       "      <th>A</th>\n",
       "      <th>B</th>\n",
       "      <th>C</th>\n",
       "      <th>D</th>\n",
       "    </tr>\n",
       "  </thead>\n",
       "  <tbody>\n",
       "    <tr>\n",
       "      <th>2018-01-04</th>\n",
       "      <td>-1.135952</td>\n",
       "      <td>-0.231884</td>\n",
       "      <td>-0.367875</td>\n",
       "      <td>-0.308342</td>\n",
       "    </tr>\n",
       "    <tr>\n",
       "      <th>2018-01-05</th>\n",
       "      <td>-1.290442</td>\n",
       "      <td>-0.346175</td>\n",
       "      <td>-0.846198</td>\n",
       "      <td>-0.674866</td>\n",
       "    </tr>\n",
       "    <tr>\n",
       "      <th>2018-01-06</th>\n",
       "      <td>0.345688</td>\n",
       "      <td>-1.307276</td>\n",
       "      <td>1.033196</td>\n",
       "      <td>0.229869</td>\n",
       "    </tr>\n",
       "  </tbody>\n",
       "</table>\n",
       "</div>"
      ],
      "text/plain": [
       "                   A         B         C         D\n",
       "2018-01-04 -1.135952 -0.231884 -0.367875 -0.308342\n",
       "2018-01-05 -1.290442 -0.346175 -0.846198 -0.674866\n",
       "2018-01-06  0.345688 -1.307276  1.033196  0.229869"
      ]
     },
     "execution_count": 18,
     "metadata": {},
     "output_type": "execute_result"
    }
   ],
   "source": [
    "# 後ろから3つのデータを確認\n",
    "df.tail(3)"
   ]
  },
  {
   "cell_type": "code",
   "execution_count": 19,
   "metadata": {},
   "outputs": [
    {
     "data": {
      "text/plain": [
       "DatetimeIndex(['2018-01-01', '2018-01-02', '2018-01-03', '2018-01-04',\n",
       "               '2018-01-05', '2018-01-06'],\n",
       "              dtype='datetime64[ns]', freq='D')"
      ]
     },
     "execution_count": 19,
     "metadata": {},
     "output_type": "execute_result"
    }
   ],
   "source": [
    "# インデックスの確認\n",
    "df.index"
   ]
  },
  {
   "cell_type": "code",
   "execution_count": 20,
   "metadata": {},
   "outputs": [
    {
     "data": {
      "text/plain": [
       "Index(['A', 'B', 'C', 'D'], dtype='object')"
      ]
     },
     "execution_count": 20,
     "metadata": {},
     "output_type": "execute_result"
    }
   ],
   "source": [
    "# カラムの確認\n",
    "df.columns"
   ]
  },
  {
   "cell_type": "code",
   "execution_count": 25,
   "metadata": {},
   "outputs": [
    {
     "data": {
      "text/plain": [
       "array([[ 0.36636786,  1.30522159,  0.78026531, -0.2777489 ],\n",
       "       [-1.05943791,  0.38675951, -1.96392554, -2.38030489],\n",
       "       [ 2.13319973,  1.42072279,  0.11383035, -1.23494527],\n",
       "       [-1.13595223, -0.23188421, -0.36787498, -0.30834225],\n",
       "       [-1.2904422 , -0.34617451, -0.84619837, -0.67486551],\n",
       "       [ 0.34568829, -1.30727617,  1.03319554,  0.22986909]])"
      ]
     },
     "execution_count": 25,
     "metadata": {},
     "output_type": "execute_result"
    }
   ],
   "source": [
    "# データの中身を確認\n",
    "df.values"
   ]
  },
  {
   "cell_type": "code",
   "execution_count": 23,
   "metadata": {},
   "outputs": [
    {
     "data": {
      "text/html": [
       "<div>\n",
       "<style>\n",
       "    .dataframe thead tr:only-child th {\n",
       "        text-align: right;\n",
       "    }\n",
       "\n",
       "    .dataframe thead th {\n",
       "        text-align: left;\n",
       "    }\n",
       "\n",
       "    .dataframe tbody tr th {\n",
       "        vertical-align: top;\n",
       "    }\n",
       "</style>\n",
       "<table border=\"1\" class=\"dataframe\">\n",
       "  <thead>\n",
       "    <tr style=\"text-align: right;\">\n",
       "      <th></th>\n",
       "      <th>A</th>\n",
       "      <th>B</th>\n",
       "      <th>C</th>\n",
       "      <th>D</th>\n",
       "    </tr>\n",
       "  </thead>\n",
       "  <tbody>\n",
       "    <tr>\n",
       "      <th>count</th>\n",
       "      <td>6.000000</td>\n",
       "      <td>6.000000</td>\n",
       "      <td>6.000000</td>\n",
       "      <td>6.000000</td>\n",
       "    </tr>\n",
       "    <tr>\n",
       "      <th>mean</th>\n",
       "      <td>-0.106763</td>\n",
       "      <td>0.204562</td>\n",
       "      <td>-0.208451</td>\n",
       "      <td>-0.774390</td>\n",
       "    </tr>\n",
       "    <tr>\n",
       "      <th>std</th>\n",
       "      <td>1.327698</td>\n",
       "      <td>1.049109</td>\n",
       "      <td>1.107875</td>\n",
       "      <td>0.924486</td>\n",
       "    </tr>\n",
       "    <tr>\n",
       "      <th>min</th>\n",
       "      <td>-1.290442</td>\n",
       "      <td>-1.307276</td>\n",
       "      <td>-1.963926</td>\n",
       "      <td>-2.380305</td>\n",
       "    </tr>\n",
       "    <tr>\n",
       "      <th>25%</th>\n",
       "      <td>-1.116824</td>\n",
       "      <td>-0.317602</td>\n",
       "      <td>-0.726618</td>\n",
       "      <td>-1.094925</td>\n",
       "    </tr>\n",
       "    <tr>\n",
       "      <th>50%</th>\n",
       "      <td>-0.356875</td>\n",
       "      <td>0.077438</td>\n",
       "      <td>-0.127022</td>\n",
       "      <td>-0.491604</td>\n",
       "    </tr>\n",
       "    <tr>\n",
       "      <th>75%</th>\n",
       "      <td>0.361198</td>\n",
       "      <td>1.075606</td>\n",
       "      <td>0.613657</td>\n",
       "      <td>-0.285397</td>\n",
       "    </tr>\n",
       "    <tr>\n",
       "      <th>max</th>\n",
       "      <td>2.133200</td>\n",
       "      <td>1.420723</td>\n",
       "      <td>1.033196</td>\n",
       "      <td>0.229869</td>\n",
       "    </tr>\n",
       "  </tbody>\n",
       "</table>\n",
       "</div>"
      ],
      "text/plain": [
       "              A         B         C         D\n",
       "count  6.000000  6.000000  6.000000  6.000000\n",
       "mean  -0.106763  0.204562 -0.208451 -0.774390\n",
       "std    1.327698  1.049109  1.107875  0.924486\n",
       "min   -1.290442 -1.307276 -1.963926 -2.380305\n",
       "25%   -1.116824 -0.317602 -0.726618 -1.094925\n",
       "50%   -0.356875  0.077438 -0.127022 -0.491604\n",
       "75%    0.361198  1.075606  0.613657 -0.285397\n",
       "max    2.133200  1.420723  1.033196  0.229869"
      ]
     },
     "execution_count": 23,
     "metadata": {},
     "output_type": "execute_result"
    }
   ],
   "source": [
    "# 統計情報を確認\n",
    "df.describe()"
   ]
  },
  {
   "cell_type": "code",
   "execution_count": 26,
   "metadata": {},
   "outputs": [
    {
     "data": {
      "text/html": [
       "<div>\n",
       "<style>\n",
       "    .dataframe thead tr:only-child th {\n",
       "        text-align: right;\n",
       "    }\n",
       "\n",
       "    .dataframe thead th {\n",
       "        text-align: left;\n",
       "    }\n",
       "\n",
       "    .dataframe tbody tr th {\n",
       "        vertical-align: top;\n",
       "    }\n",
       "</style>\n",
       "<table border=\"1\" class=\"dataframe\">\n",
       "  <thead>\n",
       "    <tr style=\"text-align: right;\">\n",
       "      <th></th>\n",
       "      <th>2018-01-01 00:00:00</th>\n",
       "      <th>2018-01-02 00:00:00</th>\n",
       "      <th>2018-01-03 00:00:00</th>\n",
       "      <th>2018-01-04 00:00:00</th>\n",
       "      <th>2018-01-05 00:00:00</th>\n",
       "      <th>2018-01-06 00:00:00</th>\n",
       "    </tr>\n",
       "  </thead>\n",
       "  <tbody>\n",
       "    <tr>\n",
       "      <th>A</th>\n",
       "      <td>0.366368</td>\n",
       "      <td>-1.059438</td>\n",
       "      <td>2.133200</td>\n",
       "      <td>-1.135952</td>\n",
       "      <td>-1.290442</td>\n",
       "      <td>0.345688</td>\n",
       "    </tr>\n",
       "    <tr>\n",
       "      <th>B</th>\n",
       "      <td>1.305222</td>\n",
       "      <td>0.386760</td>\n",
       "      <td>1.420723</td>\n",
       "      <td>-0.231884</td>\n",
       "      <td>-0.346175</td>\n",
       "      <td>-1.307276</td>\n",
       "    </tr>\n",
       "    <tr>\n",
       "      <th>C</th>\n",
       "      <td>0.780265</td>\n",
       "      <td>-1.963926</td>\n",
       "      <td>0.113830</td>\n",
       "      <td>-0.367875</td>\n",
       "      <td>-0.846198</td>\n",
       "      <td>1.033196</td>\n",
       "    </tr>\n",
       "    <tr>\n",
       "      <th>D</th>\n",
       "      <td>-0.277749</td>\n",
       "      <td>-2.380305</td>\n",
       "      <td>-1.234945</td>\n",
       "      <td>-0.308342</td>\n",
       "      <td>-0.674866</td>\n",
       "      <td>0.229869</td>\n",
       "    </tr>\n",
       "  </tbody>\n",
       "</table>\n",
       "</div>"
      ],
      "text/plain": [
       "   2018-01-01  2018-01-02  2018-01-03  2018-01-04  2018-01-05  2018-01-06\n",
       "A    0.366368   -1.059438    2.133200   -1.135952   -1.290442    0.345688\n",
       "B    1.305222    0.386760    1.420723   -0.231884   -0.346175   -1.307276\n",
       "C    0.780265   -1.963926    0.113830   -0.367875   -0.846198    1.033196\n",
       "D   -0.277749   -2.380305   -1.234945   -0.308342   -0.674866    0.229869"
      ]
     },
     "execution_count": 26,
     "metadata": {},
     "output_type": "execute_result"
    }
   ],
   "source": [
    "# 列と行を入れ替える\n",
    "df.T"
   ]
  },
  {
   "cell_type": "code",
   "execution_count": 28,
   "metadata": {},
   "outputs": [
    {
     "data": {
      "text/html": [
       "<div>\n",
       "<style>\n",
       "    .dataframe thead tr:only-child th {\n",
       "        text-align: right;\n",
       "    }\n",
       "\n",
       "    .dataframe thead th {\n",
       "        text-align: left;\n",
       "    }\n",
       "\n",
       "    .dataframe tbody tr th {\n",
       "        vertical-align: top;\n",
       "    }\n",
       "</style>\n",
       "<table border=\"1\" class=\"dataframe\">\n",
       "  <thead>\n",
       "    <tr style=\"text-align: right;\">\n",
       "      <th></th>\n",
       "      <th>A</th>\n",
       "      <th>B</th>\n",
       "      <th>C</th>\n",
       "      <th>D</th>\n",
       "    </tr>\n",
       "  </thead>\n",
       "  <tbody>\n",
       "    <tr>\n",
       "      <th>2018-01-06</th>\n",
       "      <td>0.345688</td>\n",
       "      <td>-1.307276</td>\n",
       "      <td>1.033196</td>\n",
       "      <td>0.229869</td>\n",
       "    </tr>\n",
       "    <tr>\n",
       "      <th>2018-01-05</th>\n",
       "      <td>-1.290442</td>\n",
       "      <td>-0.346175</td>\n",
       "      <td>-0.846198</td>\n",
       "      <td>-0.674866</td>\n",
       "    </tr>\n",
       "    <tr>\n",
       "      <th>2018-01-04</th>\n",
       "      <td>-1.135952</td>\n",
       "      <td>-0.231884</td>\n",
       "      <td>-0.367875</td>\n",
       "      <td>-0.308342</td>\n",
       "    </tr>\n",
       "    <tr>\n",
       "      <th>2018-01-02</th>\n",
       "      <td>-1.059438</td>\n",
       "      <td>0.386760</td>\n",
       "      <td>-1.963926</td>\n",
       "      <td>-2.380305</td>\n",
       "    </tr>\n",
       "    <tr>\n",
       "      <th>2018-01-01</th>\n",
       "      <td>0.366368</td>\n",
       "      <td>1.305222</td>\n",
       "      <td>0.780265</td>\n",
       "      <td>-0.277749</td>\n",
       "    </tr>\n",
       "    <tr>\n",
       "      <th>2018-01-03</th>\n",
       "      <td>2.133200</td>\n",
       "      <td>1.420723</td>\n",
       "      <td>0.113830</td>\n",
       "      <td>-1.234945</td>\n",
       "    </tr>\n",
       "  </tbody>\n",
       "</table>\n",
       "</div>"
      ],
      "text/plain": [
       "                   A         B         C         D\n",
       "2018-01-06  0.345688 -1.307276  1.033196  0.229869\n",
       "2018-01-05 -1.290442 -0.346175 -0.846198 -0.674866\n",
       "2018-01-04 -1.135952 -0.231884 -0.367875 -0.308342\n",
       "2018-01-02 -1.059438  0.386760 -1.963926 -2.380305\n",
       "2018-01-01  0.366368  1.305222  0.780265 -0.277749\n",
       "2018-01-03  2.133200  1.420723  0.113830 -1.234945"
      ]
     },
     "execution_count": 28,
     "metadata": {},
     "output_type": "execute_result"
    }
   ],
   "source": [
    "# カラムを指定してソート\n",
    "df.sort_values(by='B')"
   ]
  },
  {
   "cell_type": "code",
   "execution_count": 29,
   "metadata": {},
   "outputs": [
    {
     "data": {
      "text/html": [
       "<div>\n",
       "<style>\n",
       "    .dataframe thead tr:only-child th {\n",
       "        text-align: right;\n",
       "    }\n",
       "\n",
       "    .dataframe thead th {\n",
       "        text-align: left;\n",
       "    }\n",
       "\n",
       "    .dataframe tbody tr th {\n",
       "        vertical-align: top;\n",
       "    }\n",
       "</style>\n",
       "<table border=\"1\" class=\"dataframe\">\n",
       "  <thead>\n",
       "    <tr style=\"text-align: right;\">\n",
       "      <th></th>\n",
       "      <th>A</th>\n",
       "      <th>B</th>\n",
       "      <th>C</th>\n",
       "      <th>D</th>\n",
       "    </tr>\n",
       "  </thead>\n",
       "  <tbody>\n",
       "    <tr>\n",
       "      <th>2018-01-01</th>\n",
       "      <td>0.366368</td>\n",
       "      <td>1.305222</td>\n",
       "      <td>0.780265</td>\n",
       "      <td>-0.277749</td>\n",
       "    </tr>\n",
       "    <tr>\n",
       "      <th>2018-01-02</th>\n",
       "      <td>-1.059438</td>\n",
       "      <td>0.386760</td>\n",
       "      <td>-1.963926</td>\n",
       "      <td>-2.380305</td>\n",
       "    </tr>\n",
       "    <tr>\n",
       "      <th>2018-01-03</th>\n",
       "      <td>2.133200</td>\n",
       "      <td>1.420723</td>\n",
       "      <td>0.113830</td>\n",
       "      <td>-1.234945</td>\n",
       "    </tr>\n",
       "  </tbody>\n",
       "</table>\n",
       "</div>"
      ],
      "text/plain": [
       "                   A         B         C         D\n",
       "2018-01-01  0.366368  1.305222  0.780265 -0.277749\n",
       "2018-01-02 -1.059438  0.386760 -1.963926 -2.380305\n",
       "2018-01-03  2.133200  1.420723  0.113830 -1.234945"
      ]
     },
     "execution_count": 29,
     "metadata": {},
     "output_type": "execute_result"
    }
   ],
   "source": [
    "df[0:3]"
   ]
  },
  {
   "cell_type": "code",
   "execution_count": 31,
   "metadata": {},
   "outputs": [
    {
     "data": {
      "text/html": [
       "<div>\n",
       "<style>\n",
       "    .dataframe thead tr:only-child th {\n",
       "        text-align: right;\n",
       "    }\n",
       "\n",
       "    .dataframe thead th {\n",
       "        text-align: left;\n",
       "    }\n",
       "\n",
       "    .dataframe tbody tr th {\n",
       "        vertical-align: top;\n",
       "    }\n",
       "</style>\n",
       "<table border=\"1\" class=\"dataframe\">\n",
       "  <thead>\n",
       "    <tr style=\"text-align: right;\">\n",
       "      <th></th>\n",
       "      <th>A</th>\n",
       "      <th>B</th>\n",
       "      <th>C</th>\n",
       "      <th>D</th>\n",
       "    </tr>\n",
       "  </thead>\n",
       "  <tbody>\n",
       "    <tr>\n",
       "      <th>2018-01-02</th>\n",
       "      <td>-1.059438</td>\n",
       "      <td>0.386760</td>\n",
       "      <td>-1.963926</td>\n",
       "      <td>-2.380305</td>\n",
       "    </tr>\n",
       "    <tr>\n",
       "      <th>2018-01-03</th>\n",
       "      <td>2.133200</td>\n",
       "      <td>1.420723</td>\n",
       "      <td>0.113830</td>\n",
       "      <td>-1.234945</td>\n",
       "    </tr>\n",
       "    <tr>\n",
       "      <th>2018-01-04</th>\n",
       "      <td>-1.135952</td>\n",
       "      <td>-0.231884</td>\n",
       "      <td>-0.367875</td>\n",
       "      <td>-0.308342</td>\n",
       "    </tr>\n",
       "  </tbody>\n",
       "</table>\n",
       "</div>"
      ],
      "text/plain": [
       "                   A         B         C         D\n",
       "2018-01-02 -1.059438  0.386760 -1.963926 -2.380305\n",
       "2018-01-03  2.133200  1.420723  0.113830 -1.234945\n",
       "2018-01-04 -1.135952 -0.231884 -0.367875 -0.308342"
      ]
     },
     "execution_count": 31,
     "metadata": {},
     "output_type": "execute_result"
    }
   ],
   "source": [
    "# インデックスで範囲を指定\n",
    "df['20180102':'20180104']"
   ]
  },
  {
   "cell_type": "code",
   "execution_count": 32,
   "metadata": {},
   "outputs": [
    {
     "data": {
      "text/plain": [
       "A    0.366368\n",
       "B    1.305222\n",
       "C    0.780265\n",
       "D   -0.277749\n",
       "Name: 2018-01-01 00:00:00, dtype: float64"
      ]
     },
     "execution_count": 32,
     "metadata": {},
     "output_type": "execute_result"
    }
   ],
   "source": [
    "# 20180101の値を取り出す\n",
    "df.loc['20180101']"
   ]
  },
  {
   "cell_type": "code",
   "execution_count": 34,
   "metadata": {},
   "outputs": [
    {
     "data": {
      "text/plain": [
       "A    0.366368\n",
       "B    1.305222\n",
       "Name: 2018-01-01 00:00:00, dtype: float64"
      ]
     },
     "execution_count": 34,
     "metadata": {},
     "output_type": "execute_result"
    }
   ],
   "source": [
    "# 上記にカラム指定を追加\n",
    "df.loc['20180101', ['A','B']]"
   ]
  },
  {
   "cell_type": "code",
   "execution_count": 35,
   "metadata": {},
   "outputs": [
    {
     "data": {
      "text/html": [
       "<div>\n",
       "<style>\n",
       "    .dataframe thead tr:only-child th {\n",
       "        text-align: right;\n",
       "    }\n",
       "\n",
       "    .dataframe thead th {\n",
       "        text-align: left;\n",
       "    }\n",
       "\n",
       "    .dataframe tbody tr th {\n",
       "        vertical-align: top;\n",
       "    }\n",
       "</style>\n",
       "<table border=\"1\" class=\"dataframe\">\n",
       "  <thead>\n",
       "    <tr style=\"text-align: right;\">\n",
       "      <th></th>\n",
       "      <th>A</th>\n",
       "      <th>C</th>\n",
       "    </tr>\n",
       "  </thead>\n",
       "  <tbody>\n",
       "    <tr>\n",
       "      <th>2018-01-01</th>\n",
       "      <td>0.366368</td>\n",
       "      <td>0.780265</td>\n",
       "    </tr>\n",
       "    <tr>\n",
       "      <th>2018-01-02</th>\n",
       "      <td>-1.059438</td>\n",
       "      <td>-1.963926</td>\n",
       "    </tr>\n",
       "    <tr>\n",
       "      <th>2018-01-03</th>\n",
       "      <td>2.133200</td>\n",
       "      <td>0.113830</td>\n",
       "    </tr>\n",
       "    <tr>\n",
       "      <th>2018-01-04</th>\n",
       "      <td>-1.135952</td>\n",
       "      <td>-0.367875</td>\n",
       "    </tr>\n",
       "  </tbody>\n",
       "</table>\n",
       "</div>"
      ],
      "text/plain": [
       "                   A         C\n",
       "2018-01-01  0.366368  0.780265\n",
       "2018-01-02 -1.059438 -1.963926\n",
       "2018-01-03  2.133200  0.113830\n",
       "2018-01-04 -1.135952 -0.367875"
      ]
     },
     "execution_count": 35,
     "metadata": {},
     "output_type": "execute_result"
    }
   ],
   "source": [
    "# 必要な部分のインデックスとカラムを指定して値を取り出す\n",
    "df.loc['20180101':'20180104', ['A', 'C']]"
   ]
  },
  {
   "cell_type": "code",
   "execution_count": 36,
   "metadata": {},
   "outputs": [
    {
     "data": {
      "text/html": [
       "<div>\n",
       "<style>\n",
       "    .dataframe thead tr:only-child th {\n",
       "        text-align: right;\n",
       "    }\n",
       "\n",
       "    .dataframe thead th {\n",
       "        text-align: left;\n",
       "    }\n",
       "\n",
       "    .dataframe tbody tr th {\n",
       "        vertical-align: top;\n",
       "    }\n",
       "</style>\n",
       "<table border=\"1\" class=\"dataframe\">\n",
       "  <thead>\n",
       "    <tr style=\"text-align: right;\">\n",
       "      <th></th>\n",
       "      <th>A</th>\n",
       "      <th>D</th>\n",
       "    </tr>\n",
       "  </thead>\n",
       "  <tbody>\n",
       "    <tr>\n",
       "      <th>2018-01-01</th>\n",
       "      <td>0.366368</td>\n",
       "      <td>-0.277749</td>\n",
       "    </tr>\n",
       "    <tr>\n",
       "      <th>2018-01-02</th>\n",
       "      <td>-1.059438</td>\n",
       "      <td>-2.380305</td>\n",
       "    </tr>\n",
       "    <tr>\n",
       "      <th>2018-01-03</th>\n",
       "      <td>2.133200</td>\n",
       "      <td>-1.234945</td>\n",
       "    </tr>\n",
       "    <tr>\n",
       "      <th>2018-01-04</th>\n",
       "      <td>-1.135952</td>\n",
       "      <td>-0.308342</td>\n",
       "    </tr>\n",
       "    <tr>\n",
       "      <th>2018-01-05</th>\n",
       "      <td>-1.290442</td>\n",
       "      <td>-0.674866</td>\n",
       "    </tr>\n",
       "    <tr>\n",
       "      <th>2018-01-06</th>\n",
       "      <td>0.345688</td>\n",
       "      <td>0.229869</td>\n",
       "    </tr>\n",
       "  </tbody>\n",
       "</table>\n",
       "</div>"
      ],
      "text/plain": [
       "                   A         D\n",
       "2018-01-01  0.366368 -0.277749\n",
       "2018-01-02 -1.059438 -2.380305\n",
       "2018-01-03  2.133200 -1.234945\n",
       "2018-01-04 -1.135952 -0.308342\n",
       "2018-01-05 -1.290442 -0.674866\n",
       "2018-01-06  0.345688  0.229869"
      ]
     },
     "execution_count": 36,
     "metadata": {},
     "output_type": "execute_result"
    }
   ],
   "source": [
    "df.loc[:, ['A', 'D']]"
   ]
  },
  {
   "cell_type": "code",
   "execution_count": 37,
   "metadata": {},
   "outputs": [
    {
     "data": {
      "text/plain": [
       "0.36636785877202671"
      ]
     },
     "execution_count": 37,
     "metadata": {},
     "output_type": "execute_result"
    }
   ],
   "source": [
    "# 列とカラムの番号で指定する\n",
    "df.iloc[0, 0]"
   ]
  },
  {
   "cell_type": "code",
   "execution_count": 38,
   "metadata": {},
   "outputs": [
    {
     "data": {
      "text/html": [
       "<div>\n",
       "<style>\n",
       "    .dataframe thead tr:only-child th {\n",
       "        text-align: right;\n",
       "    }\n",
       "\n",
       "    .dataframe thead th {\n",
       "        text-align: left;\n",
       "    }\n",
       "\n",
       "    .dataframe tbody tr th {\n",
       "        vertical-align: top;\n",
       "    }\n",
       "</style>\n",
       "<table border=\"1\" class=\"dataframe\">\n",
       "  <thead>\n",
       "    <tr style=\"text-align: right;\">\n",
       "      <th></th>\n",
       "      <th>A</th>\n",
       "      <th>B</th>\n",
       "    </tr>\n",
       "  </thead>\n",
       "  <tbody>\n",
       "    <tr>\n",
       "      <th>2018-01-01</th>\n",
       "      <td>0.366368</td>\n",
       "      <td>1.305222</td>\n",
       "    </tr>\n",
       "    <tr>\n",
       "      <th>2018-01-02</th>\n",
       "      <td>-1.059438</td>\n",
       "      <td>0.386760</td>\n",
       "    </tr>\n",
       "  </tbody>\n",
       "</table>\n",
       "</div>"
      ],
      "text/plain": [
       "                   A         B\n",
       "2018-01-01  0.366368  1.305222\n",
       "2018-01-02 -1.059438  0.386760"
      ]
     },
     "execution_count": 38,
     "metadata": {},
     "output_type": "execute_result"
    }
   ],
   "source": [
    "df.iloc[0:2, 0:2]"
   ]
  },
  {
   "cell_type": "code",
   "execution_count": 39,
   "metadata": {},
   "outputs": [
    {
     "data": {
      "text/html": [
       "<div>\n",
       "<style>\n",
       "    .dataframe thead tr:only-child th {\n",
       "        text-align: right;\n",
       "    }\n",
       "\n",
       "    .dataframe thead th {\n",
       "        text-align: left;\n",
       "    }\n",
       "\n",
       "    .dataframe tbody tr th {\n",
       "        vertical-align: top;\n",
       "    }\n",
       "</style>\n",
       "<table border=\"1\" class=\"dataframe\">\n",
       "  <thead>\n",
       "    <tr style=\"text-align: right;\">\n",
       "      <th></th>\n",
       "      <th>A</th>\n",
       "      <th>B</th>\n",
       "      <th>C</th>\n",
       "      <th>D</th>\n",
       "    </tr>\n",
       "  </thead>\n",
       "  <tbody>\n",
       "    <tr>\n",
       "      <th>2018-01-01</th>\n",
       "      <td>0.366368</td>\n",
       "      <td>1.305222</td>\n",
       "      <td>0.780265</td>\n",
       "      <td>-0.277749</td>\n",
       "    </tr>\n",
       "    <tr>\n",
       "      <th>2018-01-02</th>\n",
       "      <td>-1.059438</td>\n",
       "      <td>0.386760</td>\n",
       "      <td>-1.963926</td>\n",
       "      <td>-2.380305</td>\n",
       "    </tr>\n",
       "    <tr>\n",
       "      <th>2018-01-03</th>\n",
       "      <td>2.133200</td>\n",
       "      <td>1.420723</td>\n",
       "      <td>0.113830</td>\n",
       "      <td>-1.234945</td>\n",
       "    </tr>\n",
       "  </tbody>\n",
       "</table>\n",
       "</div>"
      ],
      "text/plain": [
       "                   A         B         C         D\n",
       "2018-01-01  0.366368  1.305222  0.780265 -0.277749\n",
       "2018-01-02 -1.059438  0.386760 -1.963926 -2.380305\n",
       "2018-01-03  2.133200  1.420723  0.113830 -1.234945"
      ]
     },
     "execution_count": 39,
     "metadata": {},
     "output_type": "execute_result"
    }
   ],
   "source": [
    "# 条件をつけて出力\n",
    "df[df.B > 0]"
   ]
  },
  {
   "cell_type": "code",
   "execution_count": 40,
   "metadata": {},
   "outputs": [
    {
     "data": {
      "text/html": [
       "<div>\n",
       "<style>\n",
       "    .dataframe thead tr:only-child th {\n",
       "        text-align: right;\n",
       "    }\n",
       "\n",
       "    .dataframe thead th {\n",
       "        text-align: left;\n",
       "    }\n",
       "\n",
       "    .dataframe tbody tr th {\n",
       "        vertical-align: top;\n",
       "    }\n",
       "</style>\n",
       "<table border=\"1\" class=\"dataframe\">\n",
       "  <thead>\n",
       "    <tr style=\"text-align: right;\">\n",
       "      <th></th>\n",
       "      <th>A</th>\n",
       "      <th>B</th>\n",
       "      <th>C</th>\n",
       "      <th>D</th>\n",
       "    </tr>\n",
       "  </thead>\n",
       "  <tbody>\n",
       "    <tr>\n",
       "      <th>2018-01-01</th>\n",
       "      <td>0.366368</td>\n",
       "      <td>1.305222</td>\n",
       "      <td>0.780265</td>\n",
       "      <td>NaN</td>\n",
       "    </tr>\n",
       "    <tr>\n",
       "      <th>2018-01-02</th>\n",
       "      <td>NaN</td>\n",
       "      <td>0.386760</td>\n",
       "      <td>NaN</td>\n",
       "      <td>NaN</td>\n",
       "    </tr>\n",
       "    <tr>\n",
       "      <th>2018-01-03</th>\n",
       "      <td>2.133200</td>\n",
       "      <td>1.420723</td>\n",
       "      <td>0.113830</td>\n",
       "      <td>NaN</td>\n",
       "    </tr>\n",
       "    <tr>\n",
       "      <th>2018-01-04</th>\n",
       "      <td>NaN</td>\n",
       "      <td>NaN</td>\n",
       "      <td>NaN</td>\n",
       "      <td>NaN</td>\n",
       "    </tr>\n",
       "    <tr>\n",
       "      <th>2018-01-05</th>\n",
       "      <td>NaN</td>\n",
       "      <td>NaN</td>\n",
       "      <td>NaN</td>\n",
       "      <td>NaN</td>\n",
       "    </tr>\n",
       "    <tr>\n",
       "      <th>2018-01-06</th>\n",
       "      <td>0.345688</td>\n",
       "      <td>NaN</td>\n",
       "      <td>1.033196</td>\n",
       "      <td>0.229869</td>\n",
       "    </tr>\n",
       "  </tbody>\n",
       "</table>\n",
       "</div>"
      ],
      "text/plain": [
       "                   A         B         C         D\n",
       "2018-01-01  0.366368  1.305222  0.780265       NaN\n",
       "2018-01-02       NaN  0.386760       NaN       NaN\n",
       "2018-01-03  2.133200  1.420723  0.113830       NaN\n",
       "2018-01-04       NaN       NaN       NaN       NaN\n",
       "2018-01-05       NaN       NaN       NaN       NaN\n",
       "2018-01-06  0.345688       NaN  1.033196  0.229869"
      ]
     },
     "execution_count": 40,
     "metadata": {},
     "output_type": "execute_result"
    }
   ],
   "source": [
    "df[df > 0]"
   ]
  },
  {
   "cell_type": "code",
   "execution_count": 41,
   "metadata": {},
   "outputs": [
    {
     "data": {
      "text/html": [
       "<div>\n",
       "<style>\n",
       "    .dataframe thead tr:only-child th {\n",
       "        text-align: right;\n",
       "    }\n",
       "\n",
       "    .dataframe thead th {\n",
       "        text-align: left;\n",
       "    }\n",
       "\n",
       "    .dataframe tbody tr th {\n",
       "        vertical-align: top;\n",
       "    }\n",
       "</style>\n",
       "<table border=\"1\" class=\"dataframe\">\n",
       "  <thead>\n",
       "    <tr style=\"text-align: right;\">\n",
       "      <th></th>\n",
       "      <th>A</th>\n",
       "      <th>B</th>\n",
       "      <th>C</th>\n",
       "      <th>D</th>\n",
       "    </tr>\n",
       "  </thead>\n",
       "  <tbody>\n",
       "    <tr>\n",
       "      <th>2018-01-01</th>\n",
       "      <td>0.366368</td>\n",
       "      <td>1.305222</td>\n",
       "      <td>0.780265</td>\n",
       "      <td>-0.277749</td>\n",
       "    </tr>\n",
       "    <tr>\n",
       "      <th>2018-01-02</th>\n",
       "      <td>-1.059438</td>\n",
       "      <td>0.386760</td>\n",
       "      <td>-1.963926</td>\n",
       "      <td>-2.380305</td>\n",
       "    </tr>\n",
       "    <tr>\n",
       "      <th>2018-01-03</th>\n",
       "      <td>2.133200</td>\n",
       "      <td>1.420723</td>\n",
       "      <td>0.113830</td>\n",
       "      <td>-1.234945</td>\n",
       "    </tr>\n",
       "    <tr>\n",
       "      <th>2018-01-04</th>\n",
       "      <td>-1.135952</td>\n",
       "      <td>-0.231884</td>\n",
       "      <td>-0.367875</td>\n",
       "      <td>-0.308342</td>\n",
       "    </tr>\n",
       "    <tr>\n",
       "      <th>2018-01-05</th>\n",
       "      <td>-1.290442</td>\n",
       "      <td>-0.346175</td>\n",
       "      <td>-0.846198</td>\n",
       "      <td>-0.674866</td>\n",
       "    </tr>\n",
       "    <tr>\n",
       "      <th>2018-01-06</th>\n",
       "      <td>0.345688</td>\n",
       "      <td>-1.307276</td>\n",
       "      <td>1.033196</td>\n",
       "      <td>0.229869</td>\n",
       "    </tr>\n",
       "  </tbody>\n",
       "</table>\n",
       "</div>"
      ],
      "text/plain": [
       "                   A         B         C         D\n",
       "2018-01-01  0.366368  1.305222  0.780265 -0.277749\n",
       "2018-01-02 -1.059438  0.386760 -1.963926 -2.380305\n",
       "2018-01-03  2.133200  1.420723  0.113830 -1.234945\n",
       "2018-01-04 -1.135952 -0.231884 -0.367875 -0.308342\n",
       "2018-01-05 -1.290442 -0.346175 -0.846198 -0.674866\n",
       "2018-01-06  0.345688 -1.307276  1.033196  0.229869"
      ]
     },
     "execution_count": 41,
     "metadata": {},
     "output_type": "execute_result"
    }
   ],
   "source": [
    "df"
   ]
  },
  {
   "cell_type": "code",
   "execution_count": 42,
   "metadata": {
    "collapsed": true
   },
   "outputs": [],
   "source": [
    "# dfをコピー\n",
    "df2 = df.copy()"
   ]
  },
  {
   "cell_type": "code",
   "execution_count": 43,
   "metadata": {},
   "outputs": [
    {
     "data": {
      "text/html": [
       "<div>\n",
       "<style>\n",
       "    .dataframe thead tr:only-child th {\n",
       "        text-align: right;\n",
       "    }\n",
       "\n",
       "    .dataframe thead th {\n",
       "        text-align: left;\n",
       "    }\n",
       "\n",
       "    .dataframe tbody tr th {\n",
       "        vertical-align: top;\n",
       "    }\n",
       "</style>\n",
       "<table border=\"1\" class=\"dataframe\">\n",
       "  <thead>\n",
       "    <tr style=\"text-align: right;\">\n",
       "      <th></th>\n",
       "      <th>A</th>\n",
       "      <th>B</th>\n",
       "      <th>C</th>\n",
       "      <th>D</th>\n",
       "    </tr>\n",
       "  </thead>\n",
       "  <tbody>\n",
       "    <tr>\n",
       "      <th>2018-01-01</th>\n",
       "      <td>0.366368</td>\n",
       "      <td>1.305222</td>\n",
       "      <td>0.780265</td>\n",
       "      <td>-0.277749</td>\n",
       "    </tr>\n",
       "    <tr>\n",
       "      <th>2018-01-02</th>\n",
       "      <td>-1.059438</td>\n",
       "      <td>0.386760</td>\n",
       "      <td>-1.963926</td>\n",
       "      <td>-2.380305</td>\n",
       "    </tr>\n",
       "    <tr>\n",
       "      <th>2018-01-03</th>\n",
       "      <td>2.133200</td>\n",
       "      <td>1.420723</td>\n",
       "      <td>0.113830</td>\n",
       "      <td>-1.234945</td>\n",
       "    </tr>\n",
       "    <tr>\n",
       "      <th>2018-01-04</th>\n",
       "      <td>-1.135952</td>\n",
       "      <td>-0.231884</td>\n",
       "      <td>-0.367875</td>\n",
       "      <td>-0.308342</td>\n",
       "    </tr>\n",
       "    <tr>\n",
       "      <th>2018-01-05</th>\n",
       "      <td>-1.290442</td>\n",
       "      <td>-0.346175</td>\n",
       "      <td>-0.846198</td>\n",
       "      <td>-0.674866</td>\n",
       "    </tr>\n",
       "    <tr>\n",
       "      <th>2018-01-06</th>\n",
       "      <td>0.345688</td>\n",
       "      <td>-1.307276</td>\n",
       "      <td>1.033196</td>\n",
       "      <td>0.229869</td>\n",
       "    </tr>\n",
       "  </tbody>\n",
       "</table>\n",
       "</div>"
      ],
      "text/plain": [
       "                   A         B         C         D\n",
       "2018-01-01  0.366368  1.305222  0.780265 -0.277749\n",
       "2018-01-02 -1.059438  0.386760 -1.963926 -2.380305\n",
       "2018-01-03  2.133200  1.420723  0.113830 -1.234945\n",
       "2018-01-04 -1.135952 -0.231884 -0.367875 -0.308342\n",
       "2018-01-05 -1.290442 -0.346175 -0.846198 -0.674866\n",
       "2018-01-06  0.345688 -1.307276  1.033196  0.229869"
      ]
     },
     "execution_count": 43,
     "metadata": {},
     "output_type": "execute_result"
    }
   ],
   "source": [
    "df2"
   ]
  },
  {
   "cell_type": "code",
   "execution_count": 44,
   "metadata": {},
   "outputs": [
    {
     "data": {
      "text/html": [
       "<div>\n",
       "<style>\n",
       "    .dataframe thead tr:only-child th {\n",
       "        text-align: right;\n",
       "    }\n",
       "\n",
       "    .dataframe thead th {\n",
       "        text-align: left;\n",
       "    }\n",
       "\n",
       "    .dataframe tbody tr th {\n",
       "        vertical-align: top;\n",
       "    }\n",
       "</style>\n",
       "<table border=\"1\" class=\"dataframe\">\n",
       "  <thead>\n",
       "    <tr style=\"text-align: right;\">\n",
       "      <th></th>\n",
       "      <th>A</th>\n",
       "      <th>B</th>\n",
       "      <th>C</th>\n",
       "      <th>D</th>\n",
       "      <th>E</th>\n",
       "    </tr>\n",
       "  </thead>\n",
       "  <tbody>\n",
       "    <tr>\n",
       "      <th>2018-01-01</th>\n",
       "      <td>0.366368</td>\n",
       "      <td>1.305222</td>\n",
       "      <td>0.780265</td>\n",
       "      <td>-0.277749</td>\n",
       "      <td>one</td>\n",
       "    </tr>\n",
       "    <tr>\n",
       "      <th>2018-01-02</th>\n",
       "      <td>-1.059438</td>\n",
       "      <td>0.386760</td>\n",
       "      <td>-1.963926</td>\n",
       "      <td>-2.380305</td>\n",
       "      <td>one</td>\n",
       "    </tr>\n",
       "    <tr>\n",
       "      <th>2018-01-03</th>\n",
       "      <td>2.133200</td>\n",
       "      <td>1.420723</td>\n",
       "      <td>0.113830</td>\n",
       "      <td>-1.234945</td>\n",
       "      <td>two</td>\n",
       "    </tr>\n",
       "    <tr>\n",
       "      <th>2018-01-04</th>\n",
       "      <td>-1.135952</td>\n",
       "      <td>-0.231884</td>\n",
       "      <td>-0.367875</td>\n",
       "      <td>-0.308342</td>\n",
       "      <td>three</td>\n",
       "    </tr>\n",
       "    <tr>\n",
       "      <th>2018-01-05</th>\n",
       "      <td>-1.290442</td>\n",
       "      <td>-0.346175</td>\n",
       "      <td>-0.846198</td>\n",
       "      <td>-0.674866</td>\n",
       "      <td>two</td>\n",
       "    </tr>\n",
       "    <tr>\n",
       "      <th>2018-01-06</th>\n",
       "      <td>0.345688</td>\n",
       "      <td>-1.307276</td>\n",
       "      <td>1.033196</td>\n",
       "      <td>0.229869</td>\n",
       "      <td>three</td>\n",
       "    </tr>\n",
       "  </tbody>\n",
       "</table>\n",
       "</div>"
      ],
      "text/plain": [
       "                   A         B         C         D      E\n",
       "2018-01-01  0.366368  1.305222  0.780265 -0.277749    one\n",
       "2018-01-02 -1.059438  0.386760 -1.963926 -2.380305    one\n",
       "2018-01-03  2.133200  1.420723  0.113830 -1.234945    two\n",
       "2018-01-04 -1.135952 -0.231884 -0.367875 -0.308342  three\n",
       "2018-01-05 -1.290442 -0.346175 -0.846198 -0.674866    two\n",
       "2018-01-06  0.345688 -1.307276  1.033196  0.229869  three"
      ]
     },
     "execution_count": 44,
     "metadata": {},
     "output_type": "execute_result"
    }
   ],
   "source": [
    "# E列を追加\n",
    "df2['E'] = ['one', 'one', 'two', 'three', 'two', 'three']\n",
    "df2"
   ]
  },
  {
   "cell_type": "code",
   "execution_count": 45,
   "metadata": {},
   "outputs": [
    {
     "data": {
      "text/html": [
       "<div>\n",
       "<style>\n",
       "    .dataframe thead tr:only-child th {\n",
       "        text-align: right;\n",
       "    }\n",
       "\n",
       "    .dataframe thead th {\n",
       "        text-align: left;\n",
       "    }\n",
       "\n",
       "    .dataframe tbody tr th {\n",
       "        vertical-align: top;\n",
       "    }\n",
       "</style>\n",
       "<table border=\"1\" class=\"dataframe\">\n",
       "  <thead>\n",
       "    <tr style=\"text-align: right;\">\n",
       "      <th></th>\n",
       "      <th>A</th>\n",
       "      <th>B</th>\n",
       "      <th>C</th>\n",
       "      <th>D</th>\n",
       "      <th>E</th>\n",
       "    </tr>\n",
       "  </thead>\n",
       "  <tbody>\n",
       "    <tr>\n",
       "      <th>2018-01-01</th>\n",
       "      <td>0.366368</td>\n",
       "      <td>1.305222</td>\n",
       "      <td>0.780265</td>\n",
       "      <td>-0.277749</td>\n",
       "      <td>one</td>\n",
       "    </tr>\n",
       "    <tr>\n",
       "      <th>2018-01-02</th>\n",
       "      <td>-1.059438</td>\n",
       "      <td>0.386760</td>\n",
       "      <td>-1.963926</td>\n",
       "      <td>-2.380305</td>\n",
       "      <td>one</td>\n",
       "    </tr>\n",
       "    <tr>\n",
       "      <th>2018-01-04</th>\n",
       "      <td>-1.135952</td>\n",
       "      <td>-0.231884</td>\n",
       "      <td>-0.367875</td>\n",
       "      <td>-0.308342</td>\n",
       "      <td>three</td>\n",
       "    </tr>\n",
       "    <tr>\n",
       "      <th>2018-01-06</th>\n",
       "      <td>0.345688</td>\n",
       "      <td>-1.307276</td>\n",
       "      <td>1.033196</td>\n",
       "      <td>0.229869</td>\n",
       "      <td>three</td>\n",
       "    </tr>\n",
       "  </tbody>\n",
       "</table>\n",
       "</div>"
      ],
      "text/plain": [
       "                   A         B         C         D      E\n",
       "2018-01-01  0.366368  1.305222  0.780265 -0.277749    one\n",
       "2018-01-02 -1.059438  0.386760 -1.963926 -2.380305    one\n",
       "2018-01-04 -1.135952 -0.231884 -0.367875 -0.308342  three\n",
       "2018-01-06  0.345688 -1.307276  1.033196  0.229869  three"
      ]
     },
     "execution_count": 45,
     "metadata": {},
     "output_type": "execute_result"
    }
   ],
   "source": [
    "# df2のE列で値がoneとthreeを取り出す\n",
    "df2[df2['E'].isin(['one', 'three'])]"
   ]
  },
  {
   "cell_type": "code",
   "execution_count": 48,
   "metadata": {},
   "outputs": [
    {
     "data": {
      "text/html": [
       "<div>\n",
       "<style>\n",
       "    .dataframe thead tr:only-child th {\n",
       "        text-align: right;\n",
       "    }\n",
       "\n",
       "    .dataframe thead th {\n",
       "        text-align: left;\n",
       "    }\n",
       "\n",
       "    .dataframe tbody tr th {\n",
       "        vertical-align: top;\n",
       "    }\n",
       "</style>\n",
       "<table border=\"1\" class=\"dataframe\">\n",
       "  <thead>\n",
       "    <tr style=\"text-align: right;\">\n",
       "      <th></th>\n",
       "      <th>A</th>\n",
       "      <th>B</th>\n",
       "      <th>C</th>\n",
       "      <th>D</th>\n",
       "      <th>E</th>\n",
       "    </tr>\n",
       "  </thead>\n",
       "  <tbody>\n",
       "    <tr>\n",
       "      <th>2018-01-03</th>\n",
       "      <td>2.133200</td>\n",
       "      <td>1.420723</td>\n",
       "      <td>0.113830</td>\n",
       "      <td>-1.234945</td>\n",
       "      <td>two</td>\n",
       "    </tr>\n",
       "    <tr>\n",
       "      <th>2018-01-05</th>\n",
       "      <td>-1.290442</td>\n",
       "      <td>-0.346175</td>\n",
       "      <td>-0.846198</td>\n",
       "      <td>-0.674866</td>\n",
       "      <td>two</td>\n",
       "    </tr>\n",
       "  </tbody>\n",
       "</table>\n",
       "</div>"
      ],
      "text/plain": [
       "                   A         B         C         D    E\n",
       "2018-01-03  2.133200  1.420723  0.113830 -1.234945  two\n",
       "2018-01-05 -1.290442 -0.346175 -0.846198 -0.674866  two"
      ]
     },
     "execution_count": 48,
     "metadata": {},
     "output_type": "execute_result"
    }
   ],
   "source": [
    "# ~をつけて、oneとthreeでないものを取り出す\n",
    "df2[~df2['E'].isin(['one', 'three'])]"
   ]
  },
  {
   "cell_type": "code",
   "execution_count": 51,
   "metadata": {},
   "outputs": [
    {
     "data": {
      "text/plain": [
       "2018-01-01    1\n",
       "2018-01-02    2\n",
       "2018-01-03    3\n",
       "2018-01-04    4\n",
       "2018-01-05    5\n",
       "2018-01-06    6\n",
       "Freq: D, dtype: int64"
      ]
     },
     "execution_count": 51,
     "metadata": {},
     "output_type": "execute_result"
    }
   ],
   "source": [
    "# Seriesを作成してdfに代入\n",
    "s = pd.Series([1, 2, 3, 4, 5, 6], index=pd.date_range('20180101', periods=6))\n",
    "s"
   ]
  },
  {
   "cell_type": "code",
   "execution_count": 52,
   "metadata": {},
   "outputs": [
    {
     "data": {
      "text/html": [
       "<div>\n",
       "<style>\n",
       "    .dataframe thead tr:only-child th {\n",
       "        text-align: right;\n",
       "    }\n",
       "\n",
       "    .dataframe thead th {\n",
       "        text-align: left;\n",
       "    }\n",
       "\n",
       "    .dataframe tbody tr th {\n",
       "        vertical-align: top;\n",
       "    }\n",
       "</style>\n",
       "<table border=\"1\" class=\"dataframe\">\n",
       "  <thead>\n",
       "    <tr style=\"text-align: right;\">\n",
       "      <th></th>\n",
       "      <th>A</th>\n",
       "      <th>B</th>\n",
       "      <th>C</th>\n",
       "      <th>D</th>\n",
       "      <th>E</th>\n",
       "    </tr>\n",
       "  </thead>\n",
       "  <tbody>\n",
       "    <tr>\n",
       "      <th>2018-01-01</th>\n",
       "      <td>0.366368</td>\n",
       "      <td>1.305222</td>\n",
       "      <td>0.780265</td>\n",
       "      <td>-0.277749</td>\n",
       "      <td>1</td>\n",
       "    </tr>\n",
       "    <tr>\n",
       "      <th>2018-01-02</th>\n",
       "      <td>-1.059438</td>\n",
       "      <td>0.386760</td>\n",
       "      <td>-1.963926</td>\n",
       "      <td>-2.380305</td>\n",
       "      <td>2</td>\n",
       "    </tr>\n",
       "    <tr>\n",
       "      <th>2018-01-03</th>\n",
       "      <td>2.133200</td>\n",
       "      <td>1.420723</td>\n",
       "      <td>0.113830</td>\n",
       "      <td>-1.234945</td>\n",
       "      <td>3</td>\n",
       "    </tr>\n",
       "    <tr>\n",
       "      <th>2018-01-04</th>\n",
       "      <td>-1.135952</td>\n",
       "      <td>-0.231884</td>\n",
       "      <td>-0.367875</td>\n",
       "      <td>-0.308342</td>\n",
       "      <td>4</td>\n",
       "    </tr>\n",
       "    <tr>\n",
       "      <th>2018-01-05</th>\n",
       "      <td>-1.290442</td>\n",
       "      <td>-0.346175</td>\n",
       "      <td>-0.846198</td>\n",
       "      <td>-0.674866</td>\n",
       "      <td>5</td>\n",
       "    </tr>\n",
       "    <tr>\n",
       "      <th>2018-01-06</th>\n",
       "      <td>0.345688</td>\n",
       "      <td>-1.307276</td>\n",
       "      <td>1.033196</td>\n",
       "      <td>0.229869</td>\n",
       "      <td>6</td>\n",
       "    </tr>\n",
       "  </tbody>\n",
       "</table>\n",
       "</div>"
      ],
      "text/plain": [
       "                   A         B         C         D  E\n",
       "2018-01-01  0.366368  1.305222  0.780265 -0.277749  1\n",
       "2018-01-02 -1.059438  0.386760 -1.963926 -2.380305  2\n",
       "2018-01-03  2.133200  1.420723  0.113830 -1.234945  3\n",
       "2018-01-04 -1.135952 -0.231884 -0.367875 -0.308342  4\n",
       "2018-01-05 -1.290442 -0.346175 -0.846198 -0.674866  5\n",
       "2018-01-06  0.345688 -1.307276  1.033196  0.229869  6"
      ]
     },
     "execution_count": 52,
     "metadata": {},
     "output_type": "execute_result"
    }
   ],
   "source": [
    "df['E'] = s\n",
    "df"
   ]
  },
  {
   "cell_type": "code",
   "execution_count": 53,
   "metadata": {},
   "outputs": [
    {
     "data": {
      "text/html": [
       "<div>\n",
       "<style>\n",
       "    .dataframe thead tr:only-child th {\n",
       "        text-align: right;\n",
       "    }\n",
       "\n",
       "    .dataframe thead th {\n",
       "        text-align: left;\n",
       "    }\n",
       "\n",
       "    .dataframe tbody tr th {\n",
       "        vertical-align: top;\n",
       "    }\n",
       "</style>\n",
       "<table border=\"1\" class=\"dataframe\">\n",
       "  <thead>\n",
       "    <tr style=\"text-align: right;\">\n",
       "      <th></th>\n",
       "      <th>A</th>\n",
       "      <th>B</th>\n",
       "      <th>C</th>\n",
       "      <th>D</th>\n",
       "      <th>E</th>\n",
       "    </tr>\n",
       "  </thead>\n",
       "  <tbody>\n",
       "    <tr>\n",
       "      <th>2018-01-01</th>\n",
       "      <td>NaN</td>\n",
       "      <td>NaN</td>\n",
       "      <td>NaN</td>\n",
       "      <td>NaN</td>\n",
       "      <td>NaN</td>\n",
       "    </tr>\n",
       "    <tr>\n",
       "      <th>2018-01-02</th>\n",
       "      <td>0.366368</td>\n",
       "      <td>1.305222</td>\n",
       "      <td>0.780265</td>\n",
       "      <td>-0.277749</td>\n",
       "      <td>1.0</td>\n",
       "    </tr>\n",
       "    <tr>\n",
       "      <th>2018-01-03</th>\n",
       "      <td>-1.059438</td>\n",
       "      <td>0.386760</td>\n",
       "      <td>-1.963926</td>\n",
       "      <td>-2.380305</td>\n",
       "      <td>2.0</td>\n",
       "    </tr>\n",
       "    <tr>\n",
       "      <th>2018-01-04</th>\n",
       "      <td>2.133200</td>\n",
       "      <td>1.420723</td>\n",
       "      <td>0.113830</td>\n",
       "      <td>-1.234945</td>\n",
       "      <td>3.0</td>\n",
       "    </tr>\n",
       "    <tr>\n",
       "      <th>2018-01-05</th>\n",
       "      <td>-1.135952</td>\n",
       "      <td>-0.231884</td>\n",
       "      <td>-0.367875</td>\n",
       "      <td>-0.308342</td>\n",
       "      <td>4.0</td>\n",
       "    </tr>\n",
       "    <tr>\n",
       "      <th>2018-01-06</th>\n",
       "      <td>-1.290442</td>\n",
       "      <td>-0.346175</td>\n",
       "      <td>-0.846198</td>\n",
       "      <td>-0.674866</td>\n",
       "      <td>5.0</td>\n",
       "    </tr>\n",
       "  </tbody>\n",
       "</table>\n",
       "</div>"
      ],
      "text/plain": [
       "                   A         B         C         D    E\n",
       "2018-01-01       NaN       NaN       NaN       NaN  NaN\n",
       "2018-01-02  0.366368  1.305222  0.780265 -0.277749  1.0\n",
       "2018-01-03 -1.059438  0.386760 -1.963926 -2.380305  2.0\n",
       "2018-01-04  2.133200  1.420723  0.113830 -1.234945  3.0\n",
       "2018-01-05 -1.135952 -0.231884 -0.367875 -0.308342  4.0\n",
       "2018-01-06 -1.290442 -0.346175 -0.846198 -0.674866  5.0"
      ]
     },
     "execution_count": 53,
     "metadata": {},
     "output_type": "execute_result"
    }
   ],
   "source": [
    "# データを一行ずらす\n",
    "df.shift(1)"
   ]
  },
  {
   "cell_type": "code",
   "execution_count": 54,
   "metadata": {},
   "outputs": [
    {
     "data": {
      "text/html": [
       "<div>\n",
       "<style>\n",
       "    .dataframe thead tr:only-child th {\n",
       "        text-align: right;\n",
       "    }\n",
       "\n",
       "    .dataframe thead th {\n",
       "        text-align: left;\n",
       "    }\n",
       "\n",
       "    .dataframe tbody tr th {\n",
       "        vertical-align: top;\n",
       "    }\n",
       "</style>\n",
       "<table border=\"1\" class=\"dataframe\">\n",
       "  <thead>\n",
       "    <tr style=\"text-align: right;\">\n",
       "      <th></th>\n",
       "      <th>0</th>\n",
       "      <th>1</th>\n",
       "    </tr>\n",
       "  </thead>\n",
       "  <tbody>\n",
       "    <tr>\n",
       "      <th>0</th>\n",
       "      <td>0.631026</td>\n",
       "      <td>-0.705598</td>\n",
       "    </tr>\n",
       "    <tr>\n",
       "      <th>1</th>\n",
       "      <td>1.088095</td>\n",
       "      <td>-1.089932</td>\n",
       "    </tr>\n",
       "  </tbody>\n",
       "</table>\n",
       "</div>"
      ],
      "text/plain": [
       "          0         1\n",
       "0  0.631026 -0.705598\n",
       "1  1.088095 -1.089932"
      ]
     },
     "execution_count": 54,
     "metadata": {},
     "output_type": "execute_result"
    }
   ],
   "source": [
    "df = pd.DataFrame(np.random.randn(2,2))\n",
    "df"
   ]
  },
  {
   "cell_type": "code",
   "execution_count": 57,
   "metadata": {},
   "outputs": [
    {
     "data": {
      "text/html": [
       "<div>\n",
       "<style>\n",
       "    .dataframe thead tr:only-child th {\n",
       "        text-align: right;\n",
       "    }\n",
       "\n",
       "    .dataframe thead th {\n",
       "        text-align: left;\n",
       "    }\n",
       "\n",
       "    .dataframe tbody tr th {\n",
       "        vertical-align: top;\n",
       "    }\n",
       "</style>\n",
       "<table border=\"1\" class=\"dataframe\">\n",
       "  <thead>\n",
       "    <tr style=\"text-align: right;\">\n",
       "      <th></th>\n",
       "      <th>0</th>\n",
       "      <th>1</th>\n",
       "    </tr>\n",
       "  </thead>\n",
       "  <tbody>\n",
       "    <tr>\n",
       "      <th>0</th>\n",
       "      <td>0.631026</td>\n",
       "      <td>-0.705598</td>\n",
       "    </tr>\n",
       "    <tr>\n",
       "      <th>1</th>\n",
       "      <td>1.088095</td>\n",
       "      <td>-1.089932</td>\n",
       "    </tr>\n",
       "    <tr>\n",
       "      <th>0</th>\n",
       "      <td>0.631026</td>\n",
       "      <td>-0.705598</td>\n",
       "    </tr>\n",
       "    <tr>\n",
       "      <th>1</th>\n",
       "      <td>1.088095</td>\n",
       "      <td>-1.089932</td>\n",
       "    </tr>\n",
       "  </tbody>\n",
       "</table>\n",
       "</div>"
      ],
      "text/plain": [
       "          0         1\n",
       "0  0.631026 -0.705598\n",
       "1  1.088095 -1.089932\n",
       "0  0.631026 -0.705598\n",
       "1  1.088095 -1.089932"
      ]
     },
     "execution_count": 57,
     "metadata": {},
     "output_type": "execute_result"
    }
   ],
   "source": [
    "# 下にくっつける\n",
    "pd.concat([df, df])"
   ]
  },
  {
   "cell_type": "code",
   "execution_count": 58,
   "metadata": {},
   "outputs": [
    {
     "data": {
      "text/html": [
       "<div>\n",
       "<style>\n",
       "    .dataframe thead tr:only-child th {\n",
       "        text-align: right;\n",
       "    }\n",
       "\n",
       "    .dataframe thead th {\n",
       "        text-align: left;\n",
       "    }\n",
       "\n",
       "    .dataframe tbody tr th {\n",
       "        vertical-align: top;\n",
       "    }\n",
       "</style>\n",
       "<table border=\"1\" class=\"dataframe\">\n",
       "  <thead>\n",
       "    <tr style=\"text-align: right;\">\n",
       "      <th></th>\n",
       "      <th>A</th>\n",
       "      <th>B</th>\n",
       "      <th>C</th>\n",
       "      <th>D</th>\n",
       "    </tr>\n",
       "  </thead>\n",
       "  <tbody>\n",
       "    <tr>\n",
       "      <th>0</th>\n",
       "      <td>0.827383</td>\n",
       "      <td>0.628291</td>\n",
       "      <td>0.211198</td>\n",
       "      <td>0.157490</td>\n",
       "    </tr>\n",
       "    <tr>\n",
       "      <th>1</th>\n",
       "      <td>0.736622</td>\n",
       "      <td>0.354569</td>\n",
       "      <td>0.083995</td>\n",
       "      <td>0.816505</td>\n",
       "    </tr>\n",
       "    <tr>\n",
       "      <th>2</th>\n",
       "      <td>0.338716</td>\n",
       "      <td>0.413456</td>\n",
       "      <td>0.696613</td>\n",
       "      <td>0.909884</td>\n",
       "    </tr>\n",
       "    <tr>\n",
       "      <th>3</th>\n",
       "      <td>0.717223</td>\n",
       "      <td>0.396361</td>\n",
       "      <td>0.484068</td>\n",
       "      <td>0.746093</td>\n",
       "    </tr>\n",
       "    <tr>\n",
       "      <th>4</th>\n",
       "      <td>0.750767</td>\n",
       "      <td>0.816962</td>\n",
       "      <td>0.911059</td>\n",
       "      <td>0.296144</td>\n",
       "    </tr>\n",
       "    <tr>\n",
       "      <th>5</th>\n",
       "      <td>0.376860</td>\n",
       "      <td>0.142136</td>\n",
       "      <td>0.703629</td>\n",
       "      <td>0.526715</td>\n",
       "    </tr>\n",
       "    <tr>\n",
       "      <th>6</th>\n",
       "      <td>0.142249</td>\n",
       "      <td>0.935757</td>\n",
       "      <td>0.586112</td>\n",
       "      <td>0.259526</td>\n",
       "    </tr>\n",
       "    <tr>\n",
       "      <th>7</th>\n",
       "      <td>0.504599</td>\n",
       "      <td>0.089940</td>\n",
       "      <td>0.858350</td>\n",
       "      <td>0.228079</td>\n",
       "    </tr>\n",
       "  </tbody>\n",
       "</table>\n",
       "</div>"
      ],
      "text/plain": [
       "          A         B         C         D\n",
       "0  0.827383  0.628291  0.211198  0.157490\n",
       "1  0.736622  0.354569  0.083995  0.816505\n",
       "2  0.338716  0.413456  0.696613  0.909884\n",
       "3  0.717223  0.396361  0.484068  0.746093\n",
       "4  0.750767  0.816962  0.911059  0.296144\n",
       "5  0.376860  0.142136  0.703629  0.526715\n",
       "6  0.142249  0.935757  0.586112  0.259526\n",
       "7  0.504599  0.089940  0.858350  0.228079"
      ]
     },
     "execution_count": 58,
     "metadata": {},
     "output_type": "execute_result"
    }
   ],
   "source": [
    "df = pd.DataFrame(np.random.rand(8, 4), columns=['A', 'B', 'C', 'D'])\n",
    "df"
   ]
  },
  {
   "cell_type": "code",
   "execution_count": 59,
   "metadata": {},
   "outputs": [
    {
     "data": {
      "text/plain": [
       "A    0.827383\n",
       "B    0.628291\n",
       "C    0.211198\n",
       "D    0.157490\n",
       "Name: 0, dtype: float64"
      ]
     },
     "execution_count": 59,
     "metadata": {},
     "output_type": "execute_result"
    }
   ],
   "source": [
    "# 下にappendする\n",
    "s = df.iloc[0]\n",
    "s"
   ]
  },
  {
   "cell_type": "code",
   "execution_count": 60,
   "metadata": {},
   "outputs": [
    {
     "data": {
      "text/html": [
       "<div>\n",
       "<style>\n",
       "    .dataframe thead tr:only-child th {\n",
       "        text-align: right;\n",
       "    }\n",
       "\n",
       "    .dataframe thead th {\n",
       "        text-align: left;\n",
       "    }\n",
       "\n",
       "    .dataframe tbody tr th {\n",
       "        vertical-align: top;\n",
       "    }\n",
       "</style>\n",
       "<table border=\"1\" class=\"dataframe\">\n",
       "  <thead>\n",
       "    <tr style=\"text-align: right;\">\n",
       "      <th></th>\n",
       "      <th>A</th>\n",
       "      <th>B</th>\n",
       "      <th>C</th>\n",
       "      <th>D</th>\n",
       "    </tr>\n",
       "  </thead>\n",
       "  <tbody>\n",
       "    <tr>\n",
       "      <th>0</th>\n",
       "      <td>0.827383</td>\n",
       "      <td>0.628291</td>\n",
       "      <td>0.211198</td>\n",
       "      <td>0.157490</td>\n",
       "    </tr>\n",
       "    <tr>\n",
       "      <th>1</th>\n",
       "      <td>0.736622</td>\n",
       "      <td>0.354569</td>\n",
       "      <td>0.083995</td>\n",
       "      <td>0.816505</td>\n",
       "    </tr>\n",
       "    <tr>\n",
       "      <th>2</th>\n",
       "      <td>0.338716</td>\n",
       "      <td>0.413456</td>\n",
       "      <td>0.696613</td>\n",
       "      <td>0.909884</td>\n",
       "    </tr>\n",
       "    <tr>\n",
       "      <th>3</th>\n",
       "      <td>0.717223</td>\n",
       "      <td>0.396361</td>\n",
       "      <td>0.484068</td>\n",
       "      <td>0.746093</td>\n",
       "    </tr>\n",
       "    <tr>\n",
       "      <th>4</th>\n",
       "      <td>0.750767</td>\n",
       "      <td>0.816962</td>\n",
       "      <td>0.911059</td>\n",
       "      <td>0.296144</td>\n",
       "    </tr>\n",
       "    <tr>\n",
       "      <th>5</th>\n",
       "      <td>0.376860</td>\n",
       "      <td>0.142136</td>\n",
       "      <td>0.703629</td>\n",
       "      <td>0.526715</td>\n",
       "    </tr>\n",
       "    <tr>\n",
       "      <th>6</th>\n",
       "      <td>0.142249</td>\n",
       "      <td>0.935757</td>\n",
       "      <td>0.586112</td>\n",
       "      <td>0.259526</td>\n",
       "    </tr>\n",
       "    <tr>\n",
       "      <th>7</th>\n",
       "      <td>0.504599</td>\n",
       "      <td>0.089940</td>\n",
       "      <td>0.858350</td>\n",
       "      <td>0.228079</td>\n",
       "    </tr>\n",
       "    <tr>\n",
       "      <th>0</th>\n",
       "      <td>0.827383</td>\n",
       "      <td>0.628291</td>\n",
       "      <td>0.211198</td>\n",
       "      <td>0.157490</td>\n",
       "    </tr>\n",
       "  </tbody>\n",
       "</table>\n",
       "</div>"
      ],
      "text/plain": [
       "          A         B         C         D\n",
       "0  0.827383  0.628291  0.211198  0.157490\n",
       "1  0.736622  0.354569  0.083995  0.816505\n",
       "2  0.338716  0.413456  0.696613  0.909884\n",
       "3  0.717223  0.396361  0.484068  0.746093\n",
       "4  0.750767  0.816962  0.911059  0.296144\n",
       "5  0.376860  0.142136  0.703629  0.526715\n",
       "6  0.142249  0.935757  0.586112  0.259526\n",
       "7  0.504599  0.089940  0.858350  0.228079\n",
       "0  0.827383  0.628291  0.211198  0.157490"
      ]
     },
     "execution_count": 60,
     "metadata": {},
     "output_type": "execute_result"
    }
   ],
   "source": [
    "df.append(s)"
   ]
  },
  {
   "cell_type": "code",
   "execution_count": 61,
   "metadata": {},
   "outputs": [
    {
     "data": {
      "text/html": [
       "<div>\n",
       "<style>\n",
       "    .dataframe thead tr:only-child th {\n",
       "        text-align: right;\n",
       "    }\n",
       "\n",
       "    .dataframe thead th {\n",
       "        text-align: left;\n",
       "    }\n",
       "\n",
       "    .dataframe tbody tr th {\n",
       "        vertical-align: top;\n",
       "    }\n",
       "</style>\n",
       "<table border=\"1\" class=\"dataframe\">\n",
       "  <thead>\n",
       "    <tr style=\"text-align: right;\">\n",
       "      <th></th>\n",
       "      <th>A</th>\n",
       "      <th>B</th>\n",
       "      <th>C</th>\n",
       "      <th>D</th>\n",
       "    </tr>\n",
       "  </thead>\n",
       "  <tbody>\n",
       "    <tr>\n",
       "      <th>0</th>\n",
       "      <td>0.827383</td>\n",
       "      <td>0.628291</td>\n",
       "      <td>0.211198</td>\n",
       "      <td>0.157490</td>\n",
       "    </tr>\n",
       "    <tr>\n",
       "      <th>1</th>\n",
       "      <td>0.736622</td>\n",
       "      <td>0.354569</td>\n",
       "      <td>0.083995</td>\n",
       "      <td>0.816505</td>\n",
       "    </tr>\n",
       "    <tr>\n",
       "      <th>2</th>\n",
       "      <td>0.338716</td>\n",
       "      <td>0.413456</td>\n",
       "      <td>0.696613</td>\n",
       "      <td>0.909884</td>\n",
       "    </tr>\n",
       "    <tr>\n",
       "      <th>3</th>\n",
       "      <td>0.717223</td>\n",
       "      <td>0.396361</td>\n",
       "      <td>0.484068</td>\n",
       "      <td>0.746093</td>\n",
       "    </tr>\n",
       "    <tr>\n",
       "      <th>4</th>\n",
       "      <td>0.750767</td>\n",
       "      <td>0.816962</td>\n",
       "      <td>0.911059</td>\n",
       "      <td>0.296144</td>\n",
       "    </tr>\n",
       "    <tr>\n",
       "      <th>5</th>\n",
       "      <td>0.376860</td>\n",
       "      <td>0.142136</td>\n",
       "      <td>0.703629</td>\n",
       "      <td>0.526715</td>\n",
       "    </tr>\n",
       "    <tr>\n",
       "      <th>6</th>\n",
       "      <td>0.142249</td>\n",
       "      <td>0.935757</td>\n",
       "      <td>0.586112</td>\n",
       "      <td>0.259526</td>\n",
       "    </tr>\n",
       "    <tr>\n",
       "      <th>7</th>\n",
       "      <td>0.504599</td>\n",
       "      <td>0.089940</td>\n",
       "      <td>0.858350</td>\n",
       "      <td>0.228079</td>\n",
       "    </tr>\n",
       "    <tr>\n",
       "      <th>8</th>\n",
       "      <td>0.827383</td>\n",
       "      <td>0.628291</td>\n",
       "      <td>0.211198</td>\n",
       "      <td>0.157490</td>\n",
       "    </tr>\n",
       "  </tbody>\n",
       "</table>\n",
       "</div>"
      ],
      "text/plain": [
       "          A         B         C         D\n",
       "0  0.827383  0.628291  0.211198  0.157490\n",
       "1  0.736622  0.354569  0.083995  0.816505\n",
       "2  0.338716  0.413456  0.696613  0.909884\n",
       "3  0.717223  0.396361  0.484068  0.746093\n",
       "4  0.750767  0.816962  0.911059  0.296144\n",
       "5  0.376860  0.142136  0.703629  0.526715\n",
       "6  0.142249  0.935757  0.586112  0.259526\n",
       "7  0.504599  0.089940  0.858350  0.228079\n",
       "8  0.827383  0.628291  0.211198  0.157490"
      ]
     },
     "execution_count": 61,
     "metadata": {},
     "output_type": "execute_result"
    }
   ],
   "source": [
    "# appendした際にインデックスを無視する\n",
    "df.append(s, ignore_index=True)"
   ]
  },
  {
   "cell_type": "code",
   "execution_count": 62,
   "metadata": {},
   "outputs": [
    {
     "data": {
      "text/html": [
       "<div>\n",
       "<style>\n",
       "    .dataframe thead tr:only-child th {\n",
       "        text-align: right;\n",
       "    }\n",
       "\n",
       "    .dataframe thead th {\n",
       "        text-align: left;\n",
       "    }\n",
       "\n",
       "    .dataframe tbody tr th {\n",
       "        vertical-align: top;\n",
       "    }\n",
       "</style>\n",
       "<table border=\"1\" class=\"dataframe\">\n",
       "  <thead>\n",
       "    <tr style=\"text-align: right;\">\n",
       "      <th></th>\n",
       "      <th>A</th>\n",
       "      <th>B</th>\n",
       "    </tr>\n",
       "  </thead>\n",
       "  <tbody>\n",
       "    <tr>\n",
       "      <th>0</th>\n",
       "      <td>foo</td>\n",
       "      <td>2.142463</td>\n",
       "    </tr>\n",
       "    <tr>\n",
       "      <th>1</th>\n",
       "      <td>bar</td>\n",
       "      <td>0.534689</td>\n",
       "    </tr>\n",
       "    <tr>\n",
       "      <th>2</th>\n",
       "      <td>foo</td>\n",
       "      <td>-0.806300</td>\n",
       "    </tr>\n",
       "    <tr>\n",
       "      <th>3</th>\n",
       "      <td>bar</td>\n",
       "      <td>0.141175</td>\n",
       "    </tr>\n",
       "  </tbody>\n",
       "</table>\n",
       "</div>"
      ],
      "text/plain": [
       "     A         B\n",
       "0  foo  2.142463\n",
       "1  bar  0.534689\n",
       "2  foo -0.806300\n",
       "3  bar  0.141175"
      ]
     },
     "execution_count": 62,
     "metadata": {},
     "output_type": "execute_result"
    }
   ],
   "source": [
    "df = pd.DataFrame({'A': ['foo', 'bar', 'foo', 'bar'], 'B': np.random.randn(4)})\n",
    "df"
   ]
  },
  {
   "cell_type": "code",
   "execution_count": 65,
   "metadata": {},
   "outputs": [
    {
     "data": {
      "text/html": [
       "<div>\n",
       "<style>\n",
       "    .dataframe thead tr:only-child th {\n",
       "        text-align: right;\n",
       "    }\n",
       "\n",
       "    .dataframe thead th {\n",
       "        text-align: left;\n",
       "    }\n",
       "\n",
       "    .dataframe tbody tr th {\n",
       "        vertical-align: top;\n",
       "    }\n",
       "</style>\n",
       "<table border=\"1\" class=\"dataframe\">\n",
       "  <thead>\n",
       "    <tr style=\"text-align: right;\">\n",
       "      <th></th>\n",
       "      <th>B</th>\n",
       "    </tr>\n",
       "    <tr>\n",
       "      <th>A</th>\n",
       "      <th></th>\n",
       "    </tr>\n",
       "  </thead>\n",
       "  <tbody>\n",
       "    <tr>\n",
       "      <th>bar</th>\n",
       "      <td>0.675864</td>\n",
       "    </tr>\n",
       "    <tr>\n",
       "      <th>foo</th>\n",
       "      <td>1.336163</td>\n",
       "    </tr>\n",
       "  </tbody>\n",
       "</table>\n",
       "</div>"
      ],
      "text/plain": [
       "            B\n",
       "A            \n",
       "bar  0.675864\n",
       "foo  1.336163"
      ]
     },
     "execution_count": 65,
     "metadata": {},
     "output_type": "execute_result"
    }
   ],
   "source": [
    "# グルーピング\n",
    "# Aのインデックスのそれぞれの合計\n",
    "df.groupby('A').sum()"
   ]
  },
  {
   "cell_type": "code",
   "execution_count": null,
   "metadata": {
    "collapsed": true
   },
   "outputs": [],
   "source": []
  }
 ],
 "metadata": {
  "kernelspec": {
   "display_name": "Python 3",
   "language": "python",
   "name": "python3"
  },
  "language_info": {
   "codemirror_mode": {
    "name": "ipython",
    "version": 3
   },
   "file_extension": ".py",
   "mimetype": "text/x-python",
   "name": "python",
   "nbconvert_exporter": "python",
   "pygments_lexer": "ipython3",
   "version": "3.6.3"
  }
 },
 "nbformat": 4,
 "nbformat_minor": 2
}
